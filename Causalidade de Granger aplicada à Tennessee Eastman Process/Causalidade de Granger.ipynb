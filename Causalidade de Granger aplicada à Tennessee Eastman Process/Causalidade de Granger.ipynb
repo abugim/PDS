{
 "cells": [
  {
   "cell_type": "code",
   "execution_count": 1,
   "metadata": {},
   "outputs": [
    {
     "name": "stderr",
     "output_type": "stream",
     "text": [
      "/home/ryuga/anaconda3/envs/PDS/lib/python3.6/site-packages/statsmodels/compat/pandas.py:56: FutureWarning: The pandas.core.datetools module is deprecated and will be removed in a future version. Please use the pandas.tseries module instead.\n",
      "  from pandas.core import datetools\n"
     ]
    }
   ],
   "source": [
    "import pandas as pd\n",
    "import numpy as np\n",
    "import matplotlib.pylab as plt\n",
    "import matplotlib.colors as cores\n",
    "\n",
    "from matplotlib.pylab import rcParams\n",
    "import seaborn as sns\n",
    "\n",
    "from statsmodels.tsa.stattools import adfuller\n",
    "from statsmodels.tsa.seasonal import seasonal_decompose\n",
    "\n",
    "import statsmodels.api as sm\n",
    "from statsmodels.tsa.api import VAR, DynamicVAR, AR\n",
    "import itertools\n",
    "\n",
    "from graphviz import Digraph"
   ]
  },
  {
   "cell_type": "code",
   "execution_count": 2,
   "metadata": {},
   "outputs": [],
   "source": [
    "def build_graph(relations):\n",
    "    cause_effect_graph = Digraph()\n",
    "\n",
    "    nodes = set([node for relation in relations.index for node in relation])\n",
    "    for node in nodes:\n",
    "        cause_effect_graph.node(node, node)\n",
    "\n",
    "    for relation in relations.index:\n",
    "        cause_effect_graph.edge(relation[0], relation[1], color=\"#000000{:02x}\".format(int(256 * relations[relation]//relations.max())))\n",
    "    \n",
    "    return cause_effect_graph\n",
    "\n",
    "def get_best_cause(test, signif=.05):\n",
    "    best_stat = -1\n",
    "    best_p_value = 1\n",
    "    for lag in test.keys():\n",
    "        teststatistic = test[lag][0]['params_ftest'][0]\n",
    "        p_value = test[lag][0]['params_ftest'][1]\n",
    "        if p_value < signif and p_value < best_p_value:\n",
    "            best_p_value = p_value\n",
    "            best_stat = teststatistic\n",
    "    return best_stat\n",
    "\n",
    "def plot_stem_corrs(s, labels, figsize=(80, 8), ang_rot_lbls=90):\n",
    "    x = [i for i in np.arange(0, len(s.index))]\n",
    "    plt.figure(figsize=figsize)\n",
    "    plt.stem(s, linefmt='b-', markerfmt='bo', basefmt='r-')\n",
    "    plt.xticks(x, labels, rotation=ang_rot_lbls)\n",
    "    plt.show()\n",
    "\n",
    "def seasonal_decompose_df(df):\n",
    "    return df.apply(lambda s: seasonal_decompose(s, freq=200)).apply(lambda x: x.resid).transpose().dropna()\n",
    "\n",
    "def test_stationarity(timeseries):\n",
    "    \n",
    "    #Determing rolling statistics\n",
    "    rolmean = timeseries.rolling(window=12).mean()\n",
    "    rolstd = timeseries.rolling(window=12).std()\n",
    "\n",
    "    #Plot rolling statistics:\n",
    "    plt.figure(figsize=(15, 1))\n",
    "    orig = plt.plot(timeseries, color='blue',label='Original')\n",
    "    mean = plt.plot(rolmean, color='red', label='Rolling Mean')\n",
    "    std = plt.plot(rolstd, color='black', label = 'Rolling Std')\n",
    "    plt.legend(loc='best')\n",
    "    plt.title('Rolling Mean & Standard Deviation')\n",
    "    plt.show(block=False)\n",
    "    \n",
    "    #Perform Dickey-Fuller test:\n",
    "    print('Results of Dickey-Fuller Test:')\n",
    "    dftest = adfuller(timeseries, autolag='AIC')\n",
    "    dfoutput = pd.Series(dftest[0:4], index=['Test Statistic','p-value','#Lags Used','Number of Observations Used'])\n",
    "    for key,value in dftest[4].items():\n",
    "        dfoutput['Critical Value (%s)'%key] = value\n",
    "    print(dfoutput)\n",
    "    print('Passed:' , dftest[0] < dftest[4]['1%'])"
   ]
  },
  {
   "cell_type": "code",
   "execution_count": 3,
   "metadata": {},
   "outputs": [],
   "source": [
    "data_path = '/home/ryuga/Dropbox/database/dbv3/'\n",
    "columns = ['tout'] + ['xmeas'+ str(i+1) for i in range(22)]\n",
    "data_parser = lambda dates: pd.to_datetime(dates, unit='h')\n",
    "sim_df = pd.read_csv(data_path + 'data/simout_34.csv',\n",
    "                     index_col='tout',\n",
    "                     usecols=range(23),\n",
    "                     parse_dates=['tout'],\n",
    "                     date_parser=data_parser)\n",
    "# sim_df.head()\n"
   ]
  },
  {
   "cell_type": "code",
   "execution_count": 4,
   "metadata": {},
   "outputs": [],
   "source": [
    "stat_sim_df = seasonal_decompose_df(sim_df)"
   ]
  },
  {
   "cell_type": "code",
   "execution_count": 5,
   "metadata": {},
   "outputs": [
    {
     "ename": "NameError",
     "evalue": "name 'cols' is not defined",
     "output_type": "error",
     "traceback": [
      "\u001b[0;31m---------------------------------------------------------------------------\u001b[0m",
      "\u001b[0;31mNameError\u001b[0m                                 Traceback (most recent call last)",
      "\u001b[0;32m<ipython-input-5-7c27cbd819c5>\u001b[0m in \u001b[0;36m<module>\u001b[0;34m()\u001b[0m\n\u001b[1;32m     14\u001b[0m \u001b[0;31m# cols = [7,10,11,12,13,14,20,22]\u001b[0m\u001b[0;34m\u001b[0m\u001b[0;34m\u001b[0m\u001b[0m\n\u001b[1;32m     15\u001b[0m \u001b[0;34m\u001b[0m\u001b[0m\n\u001b[0;32m---> 16\u001b[0;31m \u001b[0;32mfor\u001b[0m \u001b[0mcause\u001b[0m \u001b[0;32min\u001b[0m \u001b[0mstat_sim_df\u001b[0m\u001b[0;34m[\u001b[0m\u001b[0;34m[\u001b[0m\u001b[0;34m'xmeas{}'\u001b[0m\u001b[0;34m.\u001b[0m\u001b[0mformat\u001b[0m\u001b[0;34m(\u001b[0m\u001b[0mcol\u001b[0m\u001b[0;34m)\u001b[0m \u001b[0;32mfor\u001b[0m \u001b[0mcol\u001b[0m \u001b[0;32min\u001b[0m \u001b[0mcols\u001b[0m\u001b[0;34m]\u001b[0m\u001b[0;34m]\u001b[0m\u001b[0;34m.\u001b[0m\u001b[0mcolumns\u001b[0m\u001b[0;34m:\u001b[0m\u001b[0;34m\u001b[0m\u001b[0m\n\u001b[0m\u001b[1;32m     17\u001b[0m     \u001b[0;32mfor\u001b[0m \u001b[0meffect\u001b[0m \u001b[0;32min\u001b[0m \u001b[0mstat_sim_df\u001b[0m\u001b[0;34m[\u001b[0m\u001b[0;34m[\u001b[0m\u001b[0;34m'xmeas{}'\u001b[0m\u001b[0;34m.\u001b[0m\u001b[0mformat\u001b[0m\u001b[0;34m(\u001b[0m\u001b[0mcol\u001b[0m\u001b[0;34m)\u001b[0m \u001b[0;32mfor\u001b[0m \u001b[0mcol\u001b[0m \u001b[0;32min\u001b[0m \u001b[0mcols\u001b[0m\u001b[0;34m]\u001b[0m\u001b[0;34m]\u001b[0m\u001b[0;34m.\u001b[0m\u001b[0mcolumns\u001b[0m\u001b[0;34m:\u001b[0m\u001b[0;34m\u001b[0m\u001b[0m\n\u001b[1;32m     18\u001b[0m         \u001b[0;32mif\u001b[0m \u001b[0mcause\u001b[0m \u001b[0;34m==\u001b[0m \u001b[0meffect\u001b[0m\u001b[0;34m:\u001b[0m\u001b[0;34m\u001b[0m\u001b[0m\n",
      "\u001b[0;31mNameError\u001b[0m: name 'cols' is not defined"
     ]
    }
   ],
   "source": [
    "relation_series = pd.Series(index=itertools.product(stat_sim_df.columns, stat_sim_df.columns))\n",
    "\n",
    "# cols = np.arange(1, 23)\n",
    "# cols = [2,5,7,9,12,13,14,16]\n",
    "# cols = [5,7,8,11,13,16,20,22]\n",
    "\n",
    "# Reactor\n",
    "# cols = [1,2,3,5,6,7,8,9,21]\n",
    "\n",
    "# Stripper\n",
    "# cols = [4,5,14,15,16,17,18,19]\n",
    "\n",
    "# Separator\n",
    "# cols = [7,10,11,12,13,14,20,22]\n",
    "\n",
    "for cause in stat_sim_df[['xmeas{}'.format(col) for col in cols]].columns:\n",
    "    for effect in stat_sim_df[['xmeas{}'.format(col) for col in cols]].columns:\n",
    "        if cause == effect:\n",
    "            relation_series[(cause, effect)] = -1\n",
    "            continue\n",
    "        pair = [effect, cause]\n",
    "        m_pair = VAR(stat_sim_df[pair])\n",
    "        r_pair = m_pair.fit(10, ic='aic')\n",
    "#         lag = m_pair.select_order(maxlags=10, verbose=False)['aic']\n",
    "#         causal_s[(cause, effect)] = r_pair.test_causality(effect, [effect, cause], verbose=False)['statistic']\n",
    "        tcg = sm.tsa.stattools.grangercausalitytests(sim_df[pair], maxlag=10, verbose=False)\n",
    "        relation_series[(cause, effect)] = get_best_cause(tcg, signif=.05)\n",
    "\n",
    "        \n",
    "relation_series.dropna(inplace=True)"
   ]
  },
  {
   "cell_type": "code",
   "execution_count": null,
   "metadata": {},
   "outputs": [],
   "source": [
    "probable_relations = relation_series[relation_series > relation_series.mean() + .05 * relation_series.std()]\n",
    "# probable_relations = relation_series[relation_series > 0]"
   ]
  },
  {
   "cell_type": "code",
   "execution_count": null,
   "metadata": {},
   "outputs": [],
   "source": [
    "probable_relations.sort_values().plot()\n",
    "plt.show()\n",
    "relation_series.sort_values().plot()\n",
    "plt.show()"
   ]
  },
  {
   "cell_type": "code",
   "execution_count": null,
   "metadata": {},
   "outputs": [],
   "source": [
    "build_graph(probable_relations)"
   ]
  },
  {
   "cell_type": "code",
   "execution_count": null,
   "metadata": {},
   "outputs": [],
   "source": [
    "'{:02x}'.format(255)"
   ]
  }
 ],
 "metadata": {
  "kernelspec": {
   "display_name": "Python 3",
   "language": "python",
   "name": "python3"
  },
  "language_info": {
   "codemirror_mode": {
    "name": "ipython",
    "version": 3
   },
   "file_extension": ".py",
   "mimetype": "text/x-python",
   "name": "python",
   "nbconvert_exporter": "python",
   "pygments_lexer": "ipython3",
   "version": "3.6.2"
  }
 },
 "nbformat": 4,
 "nbformat_minor": 2
}
